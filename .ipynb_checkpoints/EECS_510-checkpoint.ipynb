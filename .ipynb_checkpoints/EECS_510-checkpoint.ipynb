{
 "cells": [
  {
   "cell_type": "code",
   "execution_count": null,
   "metadata": {},
   "outputs": [],
   "source": [
    "import tweepy\n",
    "import json\n",
    " \n",
    "consumer_key = \"g5manQ858eA80IslJJGF0U0yN\"\n",
    "consumer_secret = \"2zoPUSZEBJZ8UXKWfmpZdyLQq1DjvTlfvfnx4U7oIuFEN15Gsy\"\n",
    "access_token = \"2754165630-Ci9DAlH7JRfF1FhODOn18r2kCZrWIo2oyvCrcMj\"\n",
    "access_token_secret = \"efJGuFgpN4p72N1BelR2mZnLswcYB892YZn2cspDSMx2w\"\n",
    " \n",
    "auth = tweepy.OAuthHandler(consumer_key, consumer_secret)\n",
    "auth.set_access_token(access_token, access_token_secret)\n",
    "api = tweepy.API(auth)"
   ]
  },
  {
   "cell_type": "code",
   "execution_count": null,
   "metadata": {},
   "outputs": [],
   "source": [
    "#接上面的代码(q = 关键字 ,count = 返回的数据量 . 推特一次最多返回100条??)\n",
    "search_results = api.search(q='python',count=100)\n",
    " \n",
    "#对对象进行迭代\n",
    "for tweet in search_results:\n",
    "    #tweet还是一个对象,推特的相关信息在tweer._json里\n",
    "    #这里是检测消息是否含有'text'键,并不是所有TWitter返回的所有对象都是消息(有些可能是用来删除消息或者其他内容的动作--这个没有确认),区别就是消息对象中是否含有'text'键\n",
    "    if 'text' in tweet._json:\n",
    "        print(tweet._json['text'])\n",
    "        #这里是把内容给打印出来了,如果需要保存到文件需要用json库的dumps函数转换为字符串形式后写入到文件中\n",
    "        #例如 :output_file.write(json.dumps(tweet._json))"
   ]
  }
 ],
 "metadata": {
  "kernelspec": {
   "display_name": "Python 3",
   "language": "python",
   "name": "python3"
  },
  "language_info": {
   "codemirror_mode": {
    "name": "ipython",
    "version": 3
   },
   "file_extension": ".py",
   "mimetype": "text/x-python",
   "name": "python",
   "nbconvert_exporter": "python",
   "pygments_lexer": "ipython3",
   "version": "3.6.8"
  }
 },
 "nbformat": 4,
 "nbformat_minor": 2
}
